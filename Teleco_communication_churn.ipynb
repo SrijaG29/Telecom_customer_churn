{
  "metadata": {
    "kernelspec": {
      "language": "python",
      "display_name": "Python 3",
      "name": "python3"
    },
    "language_info": {
      "pygments_lexer": "ipython3",
      "nbconvert_exporter": "python",
      "version": "3.6.4",
      "file_extension": ".py",
      "codemirror_mode": {
        "name": "ipython",
        "version": 3
      },
      "name": "python",
      "mimetype": "text/x-python"
    },
    "kaggle": {
      "accelerator": "none",
      "dataSources": [
        {
          "sourceId": 18858,
          "sourceType": "datasetVersion",
          "datasetId": 13996
        }
      ],
      "isInternetEnabled": false,
      "language": "python",
      "sourceType": "notebook",
      "isGpuEnabled": false
    },
    "colab": {
      "name": "notebook2293a50fde",
      "provenance": [],
      "include_colab_link": true
    }
  },
  "nbformat_minor": 0,
  "nbformat": 4,
  "cells": [
    {
      "cell_type": "markdown",
      "metadata": {
        "id": "view-in-github",
        "colab_type": "text"
      },
      "source": [
        "<a href=\"https://colab.research.google.com/github/SrijaG29/Telecom_customer_churn/blob/main/Teleco_communication_churn.ipynb\" target=\"_parent\"><img src=\"https://colab.research.google.com/assets/colab-badge.svg\" alt=\"Open In Colab\"/></a>"
      ]
    },
    {
      "source": [
        "# IMPORTANT: RUN THIS CELL IN ORDER TO IMPORT YOUR KAGGLE DATA SOURCES\n",
        "# TO THE CORRECT LOCATION (/kaggle/input) IN YOUR NOTEBOOK,\n",
        "# THEN FEEL FREE TO DELETE THIS CELL.\n",
        "# NOTE: THIS NOTEBOOK ENVIRONMENT DIFFERS FROM KAGGLE'S PYTHON\n",
        "# ENVIRONMENT SO THERE MAY BE MISSING LIBRARIES USED BY YOUR\n",
        "# NOTEBOOK.\n",
        "\n",
        "import os\n",
        "import sys\n",
        "from tempfile import NamedTemporaryFile\n",
        "from urllib.request import urlopen\n",
        "from urllib.parse import unquote, urlparse\n",
        "from urllib.error import HTTPError\n",
        "from zipfile import ZipFile\n",
        "import tarfile\n",
        "import shutil\n",
        "\n",
        "CHUNK_SIZE = 40960\n",
        "DATA_SOURCE_MAPPING = 'telco-customer-churn:https%3A%2F%2Fstorage.googleapis.com%2Fkaggle-data-sets%2F13996%2F18858%2Fbundle%2Farchive.zip%3FX-Goog-Algorithm%3DGOOG4-RSA-SHA256%26X-Goog-Credential%3Dgcp-kaggle-com%2540kaggle-161607.iam.gserviceaccount.com%252F20240828%252Fauto%252Fstorage%252Fgoog4_request%26X-Goog-Date%3D20240828T051007Z%26X-Goog-Expires%3D259200%26X-Goog-SignedHeaders%3Dhost%26X-Goog-Signature%3Dc3801589e6b30654e84548ae2a8056d510a278634f32688dcd486a43db5e8e17e3c4698091583e01a71bcd98f079281fbbdcb5fe33a358a011ab655045180e9e978751914e87c89fe919fafe7596476fcd86da103f2d1b357012a5ba594d266144067a3f028a5ba25767070c1de519ae0f2ae05922e242fb8e3ad9ec7023e3b5002da1e8666d1599a1f95c7c8a2b6ef0f3e6208b2278489dd75d4cfeb9e82d1c5e8809a7d35c2f0800f8457cdd9ba521a7fdebd567ce692b0417eacb34323ae728a7ced84ace6b638dcfa7dfd48944ecdd50f335ca298250b609025fc9caefd1cab00efd387a495e987465f0ebd207005c5ab3e0e09b821cf15e7534386f4b6b'\n",
        "\n",
        "KAGGLE_INPUT_PATH='/kaggle/input'\n",
        "KAGGLE_WORKING_PATH='/kaggle/working'\n",
        "KAGGLE_SYMLINK='kaggle'\n",
        "\n",
        "!umount /kaggle/input/ 2> /dev/null\n",
        "shutil.rmtree('/kaggle/input', ignore_errors=True)\n",
        "os.makedirs(KAGGLE_INPUT_PATH, 0o777, exist_ok=True)\n",
        "os.makedirs(KAGGLE_WORKING_PATH, 0o777, exist_ok=True)\n",
        "\n",
        "try:\n",
        "  os.symlink(KAGGLE_INPUT_PATH, os.path.join(\"..\", 'input'), target_is_directory=True)\n",
        "except FileExistsError:\n",
        "  pass\n",
        "try:\n",
        "  os.symlink(KAGGLE_WORKING_PATH, os.path.join(\"..\", 'working'), target_is_directory=True)\n",
        "except FileExistsError:\n",
        "  pass\n",
        "\n",
        "for data_source_mapping in DATA_SOURCE_MAPPING.split(','):\n",
        "    directory, download_url_encoded = data_source_mapping.split(':')\n",
        "    download_url = unquote(download_url_encoded)\n",
        "    filename = urlparse(download_url).path\n",
        "    destination_path = os.path.join(KAGGLE_INPUT_PATH, directory)\n",
        "    try:\n",
        "        with urlopen(download_url) as fileres, NamedTemporaryFile() as tfile:\n",
        "            total_length = fileres.headers['content-length']\n",
        "            print(f'Downloading {directory}, {total_length} bytes compressed')\n",
        "            dl = 0\n",
        "            data = fileres.read(CHUNK_SIZE)\n",
        "            while len(data) > 0:\n",
        "                dl += len(data)\n",
        "                tfile.write(data)\n",
        "                done = int(50 * dl / int(total_length))\n",
        "                sys.stdout.write(f\"\\r[{'=' * done}{' ' * (50-done)}] {dl} bytes downloaded\")\n",
        "                sys.stdout.flush()\n",
        "                data = fileres.read(CHUNK_SIZE)\n",
        "            if filename.endswith('.zip'):\n",
        "              with ZipFile(tfile) as zfile:\n",
        "                zfile.extractall(destination_path)\n",
        "            else:\n",
        "              with tarfile.open(tfile.name) as tarfile:\n",
        "                tarfile.extractall(destination_path)\n",
        "            print(f'\\nDownloaded and uncompressed: {directory}')\n",
        "    except HTTPError as e:\n",
        "        print(f'Failed to load (likely expired) {download_url} to path {destination_path}')\n",
        "        continue\n",
        "    except OSError as e:\n",
        "        print(f'Failed to load {download_url} to path {destination_path}')\n",
        "        continue\n",
        "\n",
        "print('Data source import complete.')\n"
      ],
      "metadata": {
        "id": "CoeASV2uZDfX",
        "outputId": "501d00f3-61e2-4057-b09d-6e3c613a9e41",
        "colab": {
          "base_uri": "https://localhost:8080/"
        }
      },
      "cell_type": "code",
      "outputs": [
        {
          "output_type": "stream",
          "name": "stdout",
          "text": [
            "Downloading telco-customer-churn, 175758 bytes compressed\n",
            "[==================================================] 175758 bytes downloaded\n",
            "Downloaded and uncompressed: telco-customer-churn\n",
            "Data source import complete.\n"
          ]
        }
      ],
      "execution_count": 2
    },
    {
      "cell_type": "code",
      "source": [
        "# This Python 3 environment comes with many helpful analytics libraries installed\n",
        "# It is defined by the kaggle/python Docker image: https://github.com/kaggle/docker-python\n",
        "# For example, here's several helpful packages to load\n",
        "\n",
        "import numpy as np # linear algebra\n",
        "import pandas as pd # data processing, CSV file I/O (e.g. pd.read_csv)\n",
        "\n",
        "# Input data files are available in the read-only \"../input/\" directory\n",
        "# For example, running this (by clicking run or pressing Shift+Enter) will list all files under the input directory\n",
        "\n",
        "import os\n",
        "for dirname, _, filenames in os.walk('/kaggle/input'):\n",
        "    for filename in filenames:\n",
        "        print(os.path.join(dirname, filename))\n",
        "\n",
        "# You can write up to 20GB to the current directory (/kaggle/working/) that gets preserved as output when you create a version using \"Save & Run All\"\n",
        "# You can also write temporary files to /kaggle/temp/, but they won't be saved outside of the current session"
      ],
      "metadata": {
        "_uuid": "8f2839f25d086af736a60e9eeb907d3b93b6e0e5",
        "_cell_guid": "b1076dfc-b9ad-4769-8c92-a6c4dae69d19",
        "trusted": true,
        "id": "r7YBKp9GZDfa",
        "outputId": "e3cda798-97d8-4bdd-9c0f-9f14dfceb5aa",
        "colab": {
          "base_uri": "https://localhost:8080/"
        }
      },
      "execution_count": 3,
      "outputs": [
        {
          "output_type": "stream",
          "name": "stdout",
          "text": [
            "/kaggle/input/telco-customer-churn/WA_Fn-UseC_-Telco-Customer-Churn.csv\n"
          ]
        }
      ]
    },
    {
      "cell_type": "code",
      "source": [
        "!pip install pyspark"
      ],
      "metadata": {
        "id": "V-8FksClZISQ",
        "outputId": "71bdc91d-78b2-43c3-88c8-ef49729a7577",
        "colab": {
          "base_uri": "https://localhost:8080/"
        }
      },
      "execution_count": 4,
      "outputs": [
        {
          "output_type": "stream",
          "name": "stdout",
          "text": [
            "Collecting pyspark\n",
            "  Downloading pyspark-3.5.2.tar.gz (317.3 MB)\n",
            "\u001b[2K     \u001b[90m━━━━━━━━━━━━━━━━━━━━━━━━━━━━━━━━━━━━━━━━\u001b[0m \u001b[32m317.3/317.3 MB\u001b[0m \u001b[31m1.5 MB/s\u001b[0m eta \u001b[36m0:00:00\u001b[0m\n",
            "\u001b[?25h  Preparing metadata (setup.py) ... \u001b[?25l\u001b[?25hdone\n",
            "Requirement already satisfied: py4j==0.10.9.7 in /usr/local/lib/python3.10/dist-packages (from pyspark) (0.10.9.7)\n",
            "Building wheels for collected packages: pyspark\n",
            "  Building wheel for pyspark (setup.py) ... \u001b[?25l\u001b[?25hdone\n",
            "  Created wheel for pyspark: filename=pyspark-3.5.2-py2.py3-none-any.whl size=317812365 sha256=87f321a92955391fd7b106901641e5dc99c3769e90f98c035c3f2791dad15e5d\n",
            "  Stored in directory: /root/.cache/pip/wheels/34/34/bd/03944534c44b677cd5859f248090daa9fb27b3c8f8e5f49574\n",
            "Successfully built pyspark\n",
            "Installing collected packages: pyspark\n",
            "Successfully installed pyspark-3.5.2\n"
          ]
        }
      ]
    },
    {
      "cell_type": "code",
      "source": [
        "from pyspark.sql import SparkSession"
      ],
      "metadata": {
        "id": "-SQo-DEgj4JN"
      },
      "execution_count": 6,
      "outputs": []
    },
    {
      "cell_type": "code",
      "source": [
        "spark = (\n",
        "    SparkSession\n",
        "    .builder\n",
        "    .appName('Telec customer chunk')\n",
        "    .master(\"local[*]\")\n",
        "    .getOrCreate()\n",
        ")"
      ],
      "metadata": {
        "id": "EMANqGlIjPk8"
      },
      "execution_count": 7,
      "outputs": []
    },
    {
      "cell_type": "code",
      "source": [
        "spark"
      ],
      "metadata": {
        "id": "mYyl3vjpkLST",
        "outputId": "3ddade79-0805-44b1-9f94-aef2219609d9",
        "colab": {
          "base_uri": "https://localhost:8080/",
          "height": 219
        }
      },
      "execution_count": 8,
      "outputs": [
        {
          "output_type": "execute_result",
          "data": {
            "text/plain": [
              "<pyspark.sql.session.SparkSession at 0x7a5123aba7d0>"
            ],
            "text/html": [
              "\n",
              "            <div>\n",
              "                <p><b>SparkSession - in-memory</b></p>\n",
              "                \n",
              "        <div>\n",
              "            <p><b>SparkContext</b></p>\n",
              "\n",
              "            <p><a href=\"http://e39e728853a4:4040\">Spark UI</a></p>\n",
              "\n",
              "            <dl>\n",
              "              <dt>Version</dt>\n",
              "                <dd><code>v3.5.2</code></dd>\n",
              "              <dt>Master</dt>\n",
              "                <dd><code>local[*]</code></dd>\n",
              "              <dt>AppName</dt>\n",
              "                <dd><code>Telec customer chunk</code></dd>\n",
              "            </dl>\n",
              "        </div>\n",
              "        \n",
              "            </div>\n",
              "        "
            ]
          },
          "metadata": {},
          "execution_count": 8
        }
      ]
    },
    {
      "cell_type": "code",
      "source": [
        "telecom_df = spark.read.format('csv').option('header',True).load('/kaggle/input/telco-customer-churn/WA_Fn-UseC_-Telco-Customer-Churn.csv')"
      ],
      "metadata": {
        "id": "3JsA4a7akPrI"
      },
      "execution_count": 9,
      "outputs": []
    },
    {
      "cell_type": "code",
      "source": [
        "telecom_df.show(truncate = False)"
      ],
      "metadata": {
        "id": "eLGdDfrFkpvN",
        "outputId": "37afbe70-f99b-4796-f48e-b3e09bddd256",
        "colab": {
          "base_uri": "https://localhost:8080/"
        }
      },
      "execution_count": 10,
      "outputs": [
        {
          "output_type": "stream",
          "name": "stdout",
          "text": [
            "+----------+------+-------------+-------+----------+------+------------+----------------+---------------+-------------------+-------------------+-------------------+-------------------+-------------------+-------------------+--------------+----------------+-------------------------+--------------+------------+-----+\n",
            "|customerID|gender|SeniorCitizen|Partner|Dependents|tenure|PhoneService|MultipleLines   |InternetService|OnlineSecurity     |OnlineBackup       |DeviceProtection   |TechSupport        |StreamingTV        |StreamingMovies    |Contract      |PaperlessBilling|PaymentMethod            |MonthlyCharges|TotalCharges|Churn|\n",
            "+----------+------+-------------+-------+----------+------+------------+----------------+---------------+-------------------+-------------------+-------------------+-------------------+-------------------+-------------------+--------------+----------------+-------------------------+--------------+------------+-----+\n",
            "|7590-VHVEG|Female|0            |Yes    |No        |1     |No          |No phone service|DSL            |No                 |Yes                |No                 |No                 |No                 |No                 |Month-to-month|Yes             |Electronic check         |29.85         |29.85       |No   |\n",
            "|5575-GNVDE|Male  |0            |No     |No        |34    |Yes         |No              |DSL            |Yes                |No                 |Yes                |No                 |No                 |No                 |One year      |No              |Mailed check             |56.95         |1889.5      |No   |\n",
            "|3668-QPYBK|Male  |0            |No     |No        |2     |Yes         |No              |DSL            |Yes                |Yes                |No                 |No                 |No                 |No                 |Month-to-month|Yes             |Mailed check             |53.85         |108.15      |Yes  |\n",
            "|7795-CFOCW|Male  |0            |No     |No        |45    |No          |No phone service|DSL            |Yes                |No                 |Yes                |Yes                |No                 |No                 |One year      |No              |Bank transfer (automatic)|42.3          |1840.75     |No   |\n",
            "|9237-HQITU|Female|0            |No     |No        |2     |Yes         |No              |Fiber optic    |No                 |No                 |No                 |No                 |No                 |No                 |Month-to-month|Yes             |Electronic check         |70.7          |151.65      |Yes  |\n",
            "|9305-CDSKC|Female|0            |No     |No        |8     |Yes         |Yes             |Fiber optic    |No                 |No                 |Yes                |No                 |Yes                |Yes                |Month-to-month|Yes             |Electronic check         |99.65         |820.5       |Yes  |\n",
            "|1452-KIOVK|Male  |0            |No     |Yes       |22    |Yes         |Yes             |Fiber optic    |No                 |Yes                |No                 |No                 |Yes                |No                 |Month-to-month|Yes             |Credit card (automatic)  |89.1          |1949.4      |No   |\n",
            "|6713-OKOMC|Female|0            |No     |No        |10    |No          |No phone service|DSL            |Yes                |No                 |No                 |No                 |No                 |No                 |Month-to-month|No              |Mailed check             |29.75         |301.9       |No   |\n",
            "|7892-POOKP|Female|0            |Yes    |No        |28    |Yes         |Yes             |Fiber optic    |No                 |No                 |Yes                |Yes                |Yes                |Yes                |Month-to-month|Yes             |Electronic check         |104.8         |3046.05     |Yes  |\n",
            "|6388-TABGU|Male  |0            |No     |Yes       |62    |Yes         |No              |DSL            |Yes                |Yes                |No                 |No                 |No                 |No                 |One year      |No              |Bank transfer (automatic)|56.15         |3487.95     |No   |\n",
            "|9763-GRSKD|Male  |0            |Yes    |Yes       |13    |Yes         |No              |DSL            |Yes                |No                 |No                 |No                 |No                 |No                 |Month-to-month|Yes             |Mailed check             |49.95         |587.45      |No   |\n",
            "|7469-LKBCI|Male  |0            |No     |No        |16    |Yes         |No              |No             |No internet service|No internet service|No internet service|No internet service|No internet service|No internet service|Two year      |No              |Credit card (automatic)  |18.95         |326.8       |No   |\n",
            "|8091-TTVAX|Male  |0            |Yes    |No        |58    |Yes         |Yes             |Fiber optic    |No                 |No                 |Yes                |No                 |Yes                |Yes                |One year      |No              |Credit card (automatic)  |100.35        |5681.1      |No   |\n",
            "|0280-XJGEX|Male  |0            |No     |No        |49    |Yes         |Yes             |Fiber optic    |No                 |Yes                |Yes                |No                 |Yes                |Yes                |Month-to-month|Yes             |Bank transfer (automatic)|103.7         |5036.3      |Yes  |\n",
            "|5129-JLPIS|Male  |0            |No     |No        |25    |Yes         |No              |Fiber optic    |Yes                |No                 |Yes                |Yes                |Yes                |Yes                |Month-to-month|Yes             |Electronic check         |105.5         |2686.05     |No   |\n",
            "|3655-SNQYZ|Female|0            |Yes    |Yes       |69    |Yes         |Yes             |Fiber optic    |Yes                |Yes                |Yes                |Yes                |Yes                |Yes                |Two year      |No              |Credit card (automatic)  |113.25        |7895.15     |No   |\n",
            "|8191-XWSZG|Female|0            |No     |No        |52    |Yes         |No              |No             |No internet service|No internet service|No internet service|No internet service|No internet service|No internet service|One year      |No              |Mailed check             |20.65         |1022.95     |No   |\n",
            "|9959-WOFKT|Male  |0            |No     |Yes       |71    |Yes         |Yes             |Fiber optic    |Yes                |No                 |Yes                |No                 |Yes                |Yes                |Two year      |No              |Bank transfer (automatic)|106.7         |7382.25     |No   |\n",
            "|4190-MFLUW|Female|0            |Yes    |Yes       |10    |Yes         |No              |DSL            |No                 |No                 |Yes                |Yes                |No                 |No                 |Month-to-month|No              |Credit card (automatic)  |55.2          |528.35      |Yes  |\n",
            "|4183-MYFRB|Female|0            |No     |No        |21    |Yes         |No              |Fiber optic    |No                 |Yes                |Yes                |No                 |No                 |Yes                |Month-to-month|Yes             |Electronic check         |90.05         |1862.9      |No   |\n",
            "+----------+------+-------------+-------+----------+------+------------+----------------+---------------+-------------------+-------------------+-------------------+-------------------+-------------------+-------------------+--------------+----------------+-------------------------+--------------+------------+-----+\n",
            "only showing top 20 rows\n",
            "\n"
          ]
        }
      ]
    },
    {
      "cell_type": "code",
      "source": [
        "telecom_df.dtypes"
      ],
      "metadata": {
        "id": "efkNPUpWktCI",
        "outputId": "758a50a7-d17b-43dd-9dd5-13657a4f520e",
        "colab": {
          "base_uri": "https://localhost:8080/"
        }
      },
      "execution_count": 11,
      "outputs": [
        {
          "output_type": "execute_result",
          "data": {
            "text/plain": [
              "[('customerID', 'string'),\n",
              " ('gender', 'string'),\n",
              " ('SeniorCitizen', 'string'),\n",
              " ('Partner', 'string'),\n",
              " ('Dependents', 'string'),\n",
              " ('tenure', 'string'),\n",
              " ('PhoneService', 'string'),\n",
              " ('MultipleLines', 'string'),\n",
              " ('InternetService', 'string'),\n",
              " ('OnlineSecurity', 'string'),\n",
              " ('OnlineBackup', 'string'),\n",
              " ('DeviceProtection', 'string'),\n",
              " ('TechSupport', 'string'),\n",
              " ('StreamingTV', 'string'),\n",
              " ('StreamingMovies', 'string'),\n",
              " ('Contract', 'string'),\n",
              " ('PaperlessBilling', 'string'),\n",
              " ('PaymentMethod', 'string'),\n",
              " ('MonthlyCharges', 'string'),\n",
              " ('TotalCharges', 'string'),\n",
              " ('Churn', 'string')]"
            ]
          },
          "metadata": {},
          "execution_count": 11
        }
      ]
    },
    {
      "cell_type": "code",
      "source": [],
      "metadata": {
        "id": "bbdXA_cmk1at"
      },
      "execution_count": null,
      "outputs": []
    }
  ]
}