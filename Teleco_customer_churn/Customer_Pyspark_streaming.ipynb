{
 "cells": [
  {
   "cell_type": "code",
   "execution_count": null,
   "id": "0df430b7-a2f4-4532-8048-1d8997195832",
   "metadata": {},
   "outputs": [],
   "source": [
    "import zipfile\n",
    "\n",
    "# Path to the zip file\n",
    "zip_file_path = 'Random_forest_classification_model.zip'\n",
    "\n",
    "# Extract all contents\n",
    "with zipfile.ZipFile(zip_file_path, 'r') as zip_ref:\n",
    "    zip_ref.extractall('Random_forest_classification_model')"
   ]
  },
  {
   "cell_type": "code",
   "execution_count": 1,
   "id": "744cc68d-923e-4284-86ae-7ca92b3c970f",
   "metadata": {},
   "outputs": [],
   "source": [
    "from pyspark.sql import SparkSession\n",
    "\n",
    "Spark = (\n",
    "    SparkSession\n",
    "    .builder\n",
    "    .appName(\"Pyspark Streaming\")\n",
    "    .config(\"Spark.streaming.stopGracefullyOnShutdown\",True)\n",
    "    .master(\"local[*]\")\n",
    "    .getOrCreate()\n",
    ")\n",
    "Spark.conf.set(\"spark.sql.streaming.schemaInference\",True)"
   ]
  },
  {
   "cell_type": "code",
   "execution_count": 2,
   "id": "62f0e2c1-fa69-4bf3-bd12-f98aa2032bc8",
   "metadata": {},
   "outputs": [],
   "source": [
    "from pyspark.ml.classification import RandomForestClassificationModel\n",
    "\n",
    "# Load the model\n",
    "loaded_model = RandomForestClassificationModel.load(\"Random_forest_classification_model\")"
   ]
  },
  {
   "cell_type": "code",
   "execution_count": null,
   "id": "69a9fa0f-06d1-4c1e-b6cb-03786dc0a1ef",
   "metadata": {},
   "outputs": [],
   "source": [
    "# Print the model's parameters\n",
    "print(\"Model parameters:\", loaded_model.explainParams())"
   ]
  },
  {
   "cell_type": "code",
   "execution_count": 3,
   "id": "e067656e-28a6-4cb9-a6d7-c910b2f0d205",
   "metadata": {},
   "outputs": [],
   "source": [
    "from pyspark.sql.types import StringType, StructField, StructType,IntegerType\n",
    "customer_schema = StructType([\n",
    "    StructField('customerID', StringType(), True),\n",
    "    StructField('gender', StringType(), True),\n",
    "    StructField('SeniorCitizen', IntegerType(), True),\n",
    "    StructField('Partner', StringType(), True),\n",
    "    StructField('Dependents', StringType(), True),\n",
    "    StructField('tenure', IntegerType(), True),\n",
    "    StructField('PhoneService', StringType(), True),\n",
    "    StructField('MultipleLines', StringType(), True),\n",
    "    StructField('InternetService', StringType(), True),\n",
    "    StructField('OnlineSecurity', StringType(), True),\n",
    "    StructField('OnlineBackup', StringType(), True),\n",
    "    StructField('DeviceProtection', StringType(), True),\n",
    "    StructField('TechSupport', StringType(), True),\n",
    "    StructField('StreamingTV', StringType(), True),\n",
    "    StructField('StreamingMovies', StringType(), True),\n",
    "    StructField('Contract', StringType(), True),\n",
    "    StructField('PaperlessBilling', StringType(), True),\n",
    "    StructField('PaymentMethod', StringType(), True),\n",
    "    StructField('MonthlyCharges', IntegerType(), True),\n",
    "    StructField('TotalCharges', IntegerType(), True)\n",
    "])"
   ]
  },
  {
   "cell_type": "code",
   "execution_count": 4,
   "id": "6d610b16-cc33-4c28-8d1e-e0aab0721d21",
   "metadata": {},
   "outputs": [],
   "source": [
    "customer_details_df = Spark.readStream.format(\"csv\").schema(customer_schema).load(\"Streaming_csv_results\")"
   ]
  },
  {
   "cell_type": "code",
   "execution_count": 5,
   "id": "fb673100-128d-4158-b2d4-70b75c045177",
   "metadata": {},
   "outputs": [
    {
     "name": "stdout",
     "output_type": "stream",
     "text": [
      "root\n",
      " |-- customerID: string (nullable = true)\n",
      " |-- gender: string (nullable = true)\n",
      " |-- SeniorCitizen: integer (nullable = true)\n",
      " |-- Partner: string (nullable = true)\n",
      " |-- Dependents: string (nullable = true)\n",
      " |-- tenure: integer (nullable = true)\n",
      " |-- PhoneService: string (nullable = true)\n",
      " |-- MultipleLines: string (nullable = true)\n",
      " |-- InternetService: string (nullable = true)\n",
      " |-- OnlineSecurity: string (nullable = true)\n",
      " |-- OnlineBackup: string (nullable = true)\n",
      " |-- DeviceProtection: string (nullable = true)\n",
      " |-- TechSupport: string (nullable = true)\n",
      " |-- StreamingTV: string (nullable = true)\n",
      " |-- StreamingMovies: string (nullable = true)\n",
      " |-- Contract: string (nullable = true)\n",
      " |-- PaperlessBilling: string (nullable = true)\n",
      " |-- PaymentMethod: string (nullable = true)\n",
      " |-- MonthlyCharges: integer (nullable = true)\n",
      " |-- TotalCharges: integer (nullable = true)\n",
      "\n"
     ]
    }
   ],
   "source": [
    "customer_details_df.printSchema()"
   ]
  },
  {
   "cell_type": "code",
   "execution_count": null,
   "id": "356e525d-dd3b-449f-aa11-c91caa66028b",
   "metadata": {},
   "outputs": [],
   "source": [
    "# customer_details_df.show(truncate = False)"
   ]
  },
  {
   "cell_type": "code",
   "execution_count": 6,
   "id": "0d23d802-55e8-434d-9e3c-7dac6d156b19",
   "metadata": {},
   "outputs": [],
   "source": [
    "models_indexer = [\"Partner_model\",\"Dependents_model\",\"PhoneService_model\",\"InternetService_model\",\"OnlineSecurity_model\",\"OnlineBackup_model\",\n",
    " \"DeviceProtection_model\",\"TechSupport_model\",\"Contract_model\",\"PaperlessBilling_model\",\"Churn_model\"]"
   ]
  },
  {
   "cell_type": "code",
   "execution_count": null,
   "id": "078f5706-d332-4f71-831c-9b991774debf",
   "metadata": {},
   "outputs": [],
   "source": [
    "import zipfile\n",
    "\n",
    "# Path to the zip file\n",
    "for i in models_indexer:\n",
    "    zip_file_path = i + '.zip'\n",
    "    with zipfile.ZipFile(zip_file_path, 'r') as zip_ref:\n",
    "        zip_ref.extractall(i)"
   ]
  },
  {
   "cell_type": "code",
   "execution_count": 7,
   "id": "4bd75689-6cc0-4442-9e3b-9cc512dfa51a",
   "metadata": {},
   "outputs": [],
   "source": [
    "from pyspark.ml.feature import StringIndexerModel"
   ]
  },
  {
   "cell_type": "code",
   "execution_count": 8,
   "id": "9b002b09-4f94-4cae-9063-a798d273913a",
   "metadata": {},
   "outputs": [],
   "source": [
    "d = {}\n",
    "\n",
    "for i in models_indexer:\n",
    "    d[i] = StringIndexerModel.load(i)"
   ]
  },
  {
   "cell_type": "code",
   "execution_count": 9,
   "id": "76ef9988-2ac3-41d7-a799-62a52d5bda66",
   "metadata": {},
   "outputs": [
    {
     "name": "stdout",
     "output_type": "stream",
     "text": [
      "{'Partner_model': StringIndexerModel: uid=StringIndexer_935db0f4391c, handleInvalid=error, 'Dependents_model': StringIndexerModel: uid=StringIndexer_7f2ef6e178fd, handleInvalid=error, 'PhoneService_model': StringIndexerModel: uid=StringIndexer_ee8f3f5b2409, handleInvalid=error, 'InternetService_model': StringIndexerModel: uid=StringIndexer_6ffe42d60c9e, handleInvalid=error, 'OnlineSecurity_model': StringIndexerModel: uid=StringIndexer_ffbdfcab7dee, handleInvalid=error, 'OnlineBackup_model': StringIndexerModel: uid=StringIndexer_f065b8cf7adc, handleInvalid=error, 'DeviceProtection_model': StringIndexerModel: uid=StringIndexer_8bc6c9afa3f5, handleInvalid=error, 'TechSupport_model': StringIndexerModel: uid=StringIndexer_88c86105fac8, handleInvalid=error, 'Contract_model': StringIndexerModel: uid=StringIndexer_e06964f7c4fc, handleInvalid=error, 'PaperlessBilling_model': StringIndexerModel: uid=StringIndexer_06cf89589711, handleInvalid=error, 'Churn_model': StringIndexerModel: uid=StringIndexer_b049363f3507, handleInvalid=error}\n"
     ]
    }
   ],
   "source": [
    "print(d)"
   ]
  },
  {
   "cell_type": "code",
   "execution_count": 10,
   "id": "aaa7a68a-dee8-42c7-a910-c7c8a7f7a1d8",
   "metadata": {},
   "outputs": [],
   "source": [
    "telecom_df_copy = customer_details_df.select('*')"
   ]
  },
  {
   "cell_type": "code",
   "execution_count": 11,
   "id": "7cff354b-8da0-4924-b58a-23ac5c23cc13",
   "metadata": {},
   "outputs": [],
   "source": [
    "telecom_df_copy = telecom_df_copy.drop('customerId','gender','MultipleLines','StreamingTV','PaymentMethod','StreamingMovies','Monthlycharges','TotalCharges')"
   ]
  },
  {
   "cell_type": "code",
   "execution_count": null,
   "id": "e9d6831a-207c-4f99-88e9-1c1d9e8a9908",
   "metadata": {},
   "outputs": [],
   "source": [
    "# telecom_df_copy.show(truncate = False)"
   ]
  },
  {
   "cell_type": "code",
   "execution_count": 12,
   "id": "7acdca9b-0801-4970-94ee-b165989a5c99",
   "metadata": {},
   "outputs": [],
   "source": [
    "details_df = telecom_df_copy.select('*')"
   ]
  },
  {
   "cell_type": "code",
   "execution_count": 13,
   "id": "0d8793f6-b59a-47af-8514-fe978311748e",
   "metadata": {},
   "outputs": [],
   "source": [
    "details_df = d.get('Partner_model').transform(details_df)"
   ]
  },
  {
   "cell_type": "code",
   "execution_count": 14,
   "id": "b6c1ae3d-d064-40ac-adc0-fa8f260a084d",
   "metadata": {},
   "outputs": [],
   "source": [
    "# details_df.show()"
   ]
  },
  {
   "cell_type": "code",
   "execution_count": 15,
   "id": "12596e51-dfd9-4937-8b97-e64e208d59cb",
   "metadata": {},
   "outputs": [],
   "source": [
    "details_df = d.get('Dependents_model').transform(details_df)"
   ]
  },
  {
   "cell_type": "code",
   "execution_count": 16,
   "id": "5ccabf7b-b2ce-40a6-ae3b-a06272731f21",
   "metadata": {},
   "outputs": [],
   "source": [
    "details_df = d.get('PhoneService_model').transform(details_df)"
   ]
  },
  {
   "cell_type": "code",
   "execution_count": 17,
   "id": "74db8aaf-b981-414e-bd7d-cd8ef176b963",
   "metadata": {},
   "outputs": [],
   "source": [
    "details_df = d.get('InternetService_model').transform(details_df)"
   ]
  },
  {
   "cell_type": "code",
   "execution_count": 18,
   "id": "32bb358d-43d1-445e-82b2-3dbc254647ce",
   "metadata": {},
   "outputs": [],
   "source": [
    "details_df = d.get('OnlineSecurity_model').transform(details_df)"
   ]
  },
  {
   "cell_type": "code",
   "execution_count": 19,
   "id": "a5054a5d-2924-4da2-8434-1bf896a055f9",
   "metadata": {},
   "outputs": [],
   "source": [
    "details_df = d.get('OnlineBackup_model').transform(details_df)"
   ]
  },
  {
   "cell_type": "code",
   "execution_count": 20,
   "id": "d00cf983-3d1a-44ad-8bec-9d0d2b7fa167",
   "metadata": {},
   "outputs": [],
   "source": [
    "details_df = d.get('DeviceProtection_model').transform(details_df)"
   ]
  },
  {
   "cell_type": "code",
   "execution_count": 21,
   "id": "92933f0c-d516-436a-8d1d-c09f2f6f0218",
   "metadata": {},
   "outputs": [],
   "source": [
    "details_df = d.get('TechSupport_model').transform(details_df)"
   ]
  },
  {
   "cell_type": "code",
   "execution_count": 22,
   "id": "a153bc87-db65-4269-9e30-89e5ed5c4b68",
   "metadata": {},
   "outputs": [],
   "source": [
    "details_df = d.get('Contract_model').transform(details_df)"
   ]
  },
  {
   "cell_type": "code",
   "execution_count": 23,
   "id": "d92ba0e5-0258-40fe-a2c9-83b994475fca",
   "metadata": {},
   "outputs": [],
   "source": [
    "details_df = d.get('PaperlessBilling_model').transform(details_df)"
   ]
  },
  {
   "cell_type": "code",
   "execution_count": 24,
   "id": "ad49758e-d3c1-4ef1-b51f-889f7b96d17a",
   "metadata": {},
   "outputs": [
    {
     "name": "stdout",
     "output_type": "stream",
     "text": [
      "root\n",
      " |-- SeniorCitizen: integer (nullable = true)\n",
      " |-- Partner: string (nullable = true)\n",
      " |-- Dependents: string (nullable = true)\n",
      " |-- tenure: integer (nullable = true)\n",
      " |-- PhoneService: string (nullable = true)\n",
      " |-- InternetService: string (nullable = true)\n",
      " |-- OnlineSecurity: string (nullable = true)\n",
      " |-- OnlineBackup: string (nullable = true)\n",
      " |-- DeviceProtection: string (nullable = true)\n",
      " |-- TechSupport: string (nullable = true)\n",
      " |-- Contract: string (nullable = true)\n",
      " |-- PaperlessBilling: string (nullable = true)\n",
      " |-- Partner_encoded: double (nullable = false)\n",
      " |-- Dependents_encoded: double (nullable = false)\n",
      " |-- PhoneService_encoded: double (nullable = false)\n",
      " |-- InternetService_encoded: double (nullable = false)\n",
      " |-- OnlineSecurity_encoded: double (nullable = false)\n",
      " |-- OnlineBackup_encoded: double (nullable = false)\n",
      " |-- DeviceProtection_encoded: double (nullable = false)\n",
      " |-- TechSupport_encoded: double (nullable = false)\n",
      " |-- Contract_encoded: double (nullable = false)\n",
      " |-- PaperlessBilling_encoded: double (nullable = false)\n",
      "\n"
     ]
    }
   ],
   "source": [
    "details_df.printSchema()"
   ]
  },
  {
   "cell_type": "code",
   "execution_count": null,
   "id": "9a34c885-3e1e-4afe-b9b5-621cd6eba594",
   "metadata": {},
   "outputs": [],
   "source": [
    "# details_df.show(truncate = False)"
   ]
  },
  {
   "cell_type": "code",
   "execution_count": 25,
   "id": "ac9eb39b-7aa7-457f-867e-aebc40ea435c",
   "metadata": {},
   "outputs": [],
   "source": [
    "details_df = details_df.drop('Partner','Dependents','PhoneService','InternetService','OnlineSecurity','OnlineBackup','DeviceProtection','TechSupport','Contract','PaperlessBilling')"
   ]
  },
  {
   "cell_type": "code",
   "execution_count": null,
   "id": "bd0a3b61-2d38-4da2-9b12-572b12033f31",
   "metadata": {},
   "outputs": [],
   "source": [
    "# details_df.show()"
   ]
  },
  {
   "cell_type": "code",
   "execution_count": 26,
   "id": "ddc79373-2495-46b8-95a9-718cbb8f5c8f",
   "metadata": {},
   "outputs": [],
   "source": [
    "from pyspark.ml.feature import VectorAssembler\n",
    "\n",
    "assembler_1 = VectorAssembler(\n",
    "    inputCols = [\n",
    "        'SeniorCitizen', 'tenure',\n",
    "        'Partner_encoded', 'Dependents_encoded', 'PhoneService_encoded',\n",
    "        'InternetService_encoded', 'OnlineSecurity_encoded',\n",
    "        'OnlineBackup_encoded', 'DeviceProtection_encoded',\n",
    "        'TechSupport_encoded', 'Contract_encoded',\n",
    "        'PaperlessBilling_encoded'\n",
    "    ],\n",
    "    outputCol = 'customer_details'\n",
    ")\n",
    "\n",
    "details_df = assembler_1.transform(details_df)"
   ]
  },
  {
   "cell_type": "code",
   "execution_count": 27,
   "id": "094572ba-3c38-4a97-a2c0-5e2835b9fc6f",
   "metadata": {},
   "outputs": [
    {
     "name": "stdout",
     "output_type": "stream",
     "text": [
      "root\n",
      " |-- SeniorCitizen: integer (nullable = true)\n",
      " |-- tenure: integer (nullable = true)\n",
      " |-- Partner_encoded: double (nullable = false)\n",
      " |-- Dependents_encoded: double (nullable = false)\n",
      " |-- PhoneService_encoded: double (nullable = false)\n",
      " |-- InternetService_encoded: double (nullable = false)\n",
      " |-- OnlineSecurity_encoded: double (nullable = false)\n",
      " |-- OnlineBackup_encoded: double (nullable = false)\n",
      " |-- DeviceProtection_encoded: double (nullable = false)\n",
      " |-- TechSupport_encoded: double (nullable = false)\n",
      " |-- Contract_encoded: double (nullable = false)\n",
      " |-- PaperlessBilling_encoded: double (nullable = false)\n",
      " |-- customer_details: vector (nullable = true)\n",
      "\n"
     ]
    }
   ],
   "source": [
    "details_df.printSchema()"
   ]
  },
  {
   "cell_type": "code",
   "execution_count": 28,
   "id": "c90e9f15-5e81-4446-9af5-061bb0a2cb9b",
   "metadata": {},
   "outputs": [
    {
     "name": "stdout",
     "output_type": "stream",
     "text": [
      "root\n",
      " |-- customer_details: vector (nullable = true)\n",
      "\n"
     ]
    }
   ],
   "source": [
    "input_to_model = details_df.select('customer_details')\n",
    "input_to_model.printSchema()"
   ]
  },
  {
   "cell_type": "code",
   "execution_count": null,
   "id": "f6826ec7-dbcc-4f39-9829-306f71684539",
   "metadata": {},
   "outputs": [],
   "source": [
    "# input_to_model.show(truncate = False)"
   ]
  },
  {
   "cell_type": "code",
   "execution_count": 29,
   "id": "17be66e4-1a5f-42d8-8d9c-9bb7636abfc5",
   "metadata": {},
   "outputs": [],
   "source": [
    "from pyspark.ml.classification import RandomForestClassificationModel\n",
    "\n",
    "my_model = RandomForestClassificationModel.load('Random_forest_classification_model')"
   ]
  },
  {
   "cell_type": "code",
   "execution_count": 30,
   "id": "5cf82111-46c6-4569-aa54-fa04005e7b7f",
   "metadata": {},
   "outputs": [],
   "source": [
    "prediction1 = my_model.transform(input_to_model)"
   ]
  },
  {
   "cell_type": "code",
   "execution_count": null,
   "id": "8ffe4bc0-3f3d-43ad-9cad-e74e271813bf",
   "metadata": {},
   "outputs": [],
   "source": [
    "# prediction1.show()"
   ]
  },
  {
   "cell_type": "code",
   "execution_count": null,
   "id": "a03f88f5-02ac-445a-8f38-cdb58cee0de8",
   "metadata": {},
   "outputs": [],
   "source": [
    "# prediction1.select(prediction1.prediction).show()"
   ]
  },
  {
   "cell_type": "code",
   "execution_count": 31,
   "id": "e055f54c-6404-4f2f-a694-09ca2612330e",
   "metadata": {},
   "outputs": [],
   "source": [
    "result = prediction1.select(prediction1.prediction)"
   ]
  },
  {
   "cell_type": "code",
   "execution_count": null,
   "id": "3d0d5f8d-bd02-4046-a575-1ce615caa7a8",
   "metadata": {},
   "outputs": [],
   "source": [
    "# result.show()"
   ]
  },
  {
   "cell_type": "code",
   "execution_count": 32,
   "id": "c335b9bb-3d3a-4029-b3e4-67120c7cb642",
   "metadata": {},
   "outputs": [],
   "source": [
    "from pyspark.ml.feature import StringIndexer, IndexToString"
   ]
  },
  {
   "cell_type": "code",
   "execution_count": null,
   "id": "1473b5be-1667-4c60-b6d7-cb7649736497",
   "metadata": {},
   "outputs": [],
   "source": [
    "import zipfile\n",
    "\n",
    "\n",
    "zip_file_path = 'Churn_model' + '.zip'\n",
    "with zipfile.ZipFile(zip_file_path, 'r') as zip_ref:\n",
    "    zip_ref.extractall('Churn_model')"
   ]
  },
  {
   "cell_type": "code",
   "execution_count": 34,
   "id": "3974507a-c9c4-426b-9b46-cac06c862c75",
   "metadata": {},
   "outputs": [],
   "source": [
    "x = StringIndexerModel.load('Churn_model')"
   ]
  },
  {
   "cell_type": "code",
   "execution_count": 35,
   "id": "45ee0b5d-55c7-4fed-b609-4a72db2a03cd",
   "metadata": {},
   "outputs": [],
   "source": [
    "index_to_string = IndexToString(inputCol=\"prediction\", outputCol=\"ouput\", labels=x.labels)\n",
    "original_df = index_to_string.transform(result)\n",
    "# original_df.show()"
   ]
  },
  {
   "cell_type": "code",
   "execution_count": null,
   "id": "90e809af-e2c3-423a-8ee3-f5dee532fced",
   "metadata": {},
   "outputs": [],
   "source": [
    "(\n",
    "    original_df\n",
    "    .writeStream\n",
    "    .format(\"console\")\n",
    "    .outputMode(\"append\")\n",
    "    .trigger(processingTime = \"3 seconds\")\n",
    "    .start()\n",
    "    .awaitTermination()\n",
    ")"
   ]
  },
  {
   "cell_type": "code",
   "execution_count": null,
   "id": "33fb1cd7-bf14-4ca1-b663-ba37f71c83e3",
   "metadata": {},
   "outputs": [],
   "source": []
  }
 ],
 "metadata": {
  "kernelspec": {
   "display_name": "Python 3 (ipykernel)",
   "language": "python",
   "name": "python3"
  },
  "language_info": {
   "codemirror_mode": {
    "name": "ipython",
    "version": 3
   },
   "file_extension": ".py",
   "mimetype": "text/x-python",
   "name": "python",
   "nbconvert_exporter": "python",
   "pygments_lexer": "ipython3",
   "version": "3.10.6"
  }
 },
 "nbformat": 4,
 "nbformat_minor": 5
}
